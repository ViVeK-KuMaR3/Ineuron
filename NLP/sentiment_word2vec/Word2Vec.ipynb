{
  "nbformat": 4,
  "nbformat_minor": 0,
  "metadata": {
    "colab": {
      "name": "Word2Vec.ipynb",
      "provenance": []
    },
    "kernelspec": {
      "name": "python3",
      "display_name": "Python 3"
    },
    "language_info": {
      "name": "python"
    }
  },
  "cells": [
    {
      "cell_type": "code",
      "metadata": {
        "id": "K2diMKtNQSU1"
      },
      "source": [
        "#!pip install spacy\n",
        "#!python -m spacy download en_core_web_lg"
      ],
      "execution_count": 1,
      "outputs": []
    },
    {
      "cell_type": "markdown",
      "metadata": {
        "id": "4aEqsfFcTUGg"
      },
      "source": [
        "We are using the pretrained models of spacy large models.\n",
        "Also we are using word2vec for sentiment analysis of imdb movies reviews of labelled dataset."
      ]
    },
    {
      "cell_type": "code",
      "metadata": {
        "id": "iaUReerLTfXF"
      },
      "source": [
        "import en_core_web_lg"
      ],
      "execution_count": 2,
      "outputs": []
    },
    {
      "cell_type": "code",
      "metadata": {
        "id": "UkCpwaDNVAtd"
      },
      "source": [
        "nlp=en_core_web_lg.load()"
      ],
      "execution_count": 3,
      "outputs": []
    },
    {
      "cell_type": "markdown",
      "metadata": {
        "id": "bxnWsOlnV8Pc"
      },
      "source": [
        "Now we will undestand how the similarity between tokens of same sentence work in spacy."
      ]
    },
    {
      "cell_type": "code",
      "metadata": {
        "colab": {
          "base_uri": "https://localhost:8080/"
        },
        "id": "ukcniVI5V62U",
        "outputId": "c4a62022-b31e-4463-a5f5-ee6fcae71047"
      },
      "source": [
        "#below is the examples just for understanding\n",
        "x= 'dog cat train lion erdga'\n",
        "doc=nlp(x)\n",
        "\n",
        "for token1 in doc:\n",
        "  for token2 in doc:\n",
        "    print(token1.text, token2.text,token1.similarity(token2))\n",
        "\n"
      ],
      "execution_count": 4,
      "outputs": [
        {
          "output_type": "stream",
          "text": [
            "dog dog 1.0\n",
            "dog cat 0.80168545\n",
            "dog train 0.35094148\n",
            "dog lion 0.47424486\n",
            "dog erdga 0.0\n",
            "cat dog 0.80168545\n",
            "cat cat 1.0\n",
            "cat train 0.26588535\n",
            "cat lion 0.5265438\n",
            "cat erdga 0.0\n",
            "train dog 0.35094148\n",
            "train cat 0.26588535\n",
            "train train 1.0\n",
            "train lion 0.24996218\n",
            "train erdga 0.0\n",
            "lion dog 0.47424486\n",
            "lion cat 0.5265438\n",
            "lion train 0.24996218\n",
            "lion lion 1.0\n",
            "lion erdga 0.0\n",
            "erdga dog 0.0\n",
            "erdga cat 0.0\n",
            "erdga train 0.0\n",
            "erdga lion 0.0\n",
            "erdga erdga 1.0\n"
          ],
          "name": "stdout"
        },
        {
          "output_type": "stream",
          "text": [
            "/usr/lib/python3.7/runpy.py:193: UserWarning: [W008] Evaluating Token.similarity based on empty vectors.\n",
            "  \"__main__\", mod_spec)\n",
            "/usr/lib/python3.7/runpy.py:193: UserWarning: [W008] Evaluating Token.similarity based on empty vectors.\n",
            "  \"__main__\", mod_spec)\n",
            "/usr/lib/python3.7/runpy.py:193: UserWarning: [W008] Evaluating Token.similarity based on empty vectors.\n",
            "  \"__main__\", mod_spec)\n",
            "/usr/lib/python3.7/runpy.py:193: UserWarning: [W008] Evaluating Token.similarity based on empty vectors.\n",
            "  \"__main__\", mod_spec)\n",
            "/usr/lib/python3.7/runpy.py:193: UserWarning: [W008] Evaluating Token.similarity based on empty vectors.\n",
            "  \"__main__\", mod_spec)\n",
            "/usr/lib/python3.7/runpy.py:193: UserWarning: [W008] Evaluating Token.similarity based on empty vectors.\n",
            "  \"__main__\", mod_spec)\n",
            "/usr/lib/python3.7/runpy.py:193: UserWarning: [W008] Evaluating Token.similarity based on empty vectors.\n",
            "  \"__main__\", mod_spec)\n",
            "/usr/lib/python3.7/runpy.py:193: UserWarning: [W008] Evaluating Token.similarity based on empty vectors.\n",
            "  \"__main__\", mod_spec)\n"
          ],
          "name": "stderr"
        }
      ]
    },
    {
      "cell_type": "markdown",
      "metadata": {
        "id": "Y6tmAuCKYHsu"
      },
      "source": [
        "We are getting above warnings because we are using erdga in our sentence and since that is not a valid token inside the vocabulary of the large spacy model therefore it is mentioning in the error that the similarity is based on empty vector for OOV(out of vocabulary) token.\n",
        "\n",
        "Explanation:-\n",
        "\n",
        "dog cat is showing 80 percent similarity in the sense that both are tamed animals and most of the times they might be used in same sentence for comparasion etc.\n",
        "\n",
        "cat and lion are showing 52 percent similarity as both of them belong to same family etc.\n",
        "\n",
        "dog train cat train have relatively low similarities as compared to others because they have no relation in between them"
      ]
    },
    {
      "cell_type": "markdown",
      "metadata": {
        "id": "dXO2VGNEZa-P"
      },
      "source": [
        "**Model buliding for the problem statement**"
      ]
    },
    {
      "cell_type": "code",
      "metadata": {
        "id": "ajaGmzy5ZhVb"
      },
      "source": [
        "import numpy as np\n",
        "import pandas as pd\n",
        "\n",
        "\n",
        "from sklearn.linear_model import LogisticRegression\n",
        "from sklearn.model_selection import train_test_split\n",
        "\n",
        "from sklearn.metrics import classification_report,confusion_matrix"
      ],
      "execution_count": 5,
      "outputs": []
    },
    {
      "cell_type": "code",
      "metadata": {
        "id": "4Ls-Zm58Z921"
      },
      "source": [
        "df=pd.read_csv('https://raw.githubusercontent.com/laxmimerit/All-CSV-ML-Data-Files-Download/master/moviereviews.tsv',sep='\\t')"
      ],
      "execution_count": 120,
      "outputs": []
    },
    {
      "cell_type": "code",
      "metadata": {
        "colab": {
          "base_uri": "https://localhost:8080/",
          "height": 203
        },
        "id": "JDkRWn1JaDOL",
        "outputId": "1e8d495a-5b17-4d9b-c438-c3449ed1863d"
      },
      "source": [
        "df.head()"
      ],
      "execution_count": 121,
      "outputs": [
        {
          "output_type": "execute_result",
          "data": {
            "text/html": [
              "<div>\n",
              "<style scoped>\n",
              "    .dataframe tbody tr th:only-of-type {\n",
              "        vertical-align: middle;\n",
              "    }\n",
              "\n",
              "    .dataframe tbody tr th {\n",
              "        vertical-align: top;\n",
              "    }\n",
              "\n",
              "    .dataframe thead th {\n",
              "        text-align: right;\n",
              "    }\n",
              "</style>\n",
              "<table border=\"1\" class=\"dataframe\">\n",
              "  <thead>\n",
              "    <tr style=\"text-align: right;\">\n",
              "      <th></th>\n",
              "      <th>label</th>\n",
              "      <th>review</th>\n",
              "    </tr>\n",
              "  </thead>\n",
              "  <tbody>\n",
              "    <tr>\n",
              "      <th>0</th>\n",
              "      <td>neg</td>\n",
              "      <td>how do films like mouse hunt get into theatres...</td>\n",
              "    </tr>\n",
              "    <tr>\n",
              "      <th>1</th>\n",
              "      <td>neg</td>\n",
              "      <td>some talented actresses are blessed with a dem...</td>\n",
              "    </tr>\n",
              "    <tr>\n",
              "      <th>2</th>\n",
              "      <td>pos</td>\n",
              "      <td>this has been an extraordinary year for austra...</td>\n",
              "    </tr>\n",
              "    <tr>\n",
              "      <th>3</th>\n",
              "      <td>pos</td>\n",
              "      <td>according to hollywood movies made in last few...</td>\n",
              "    </tr>\n",
              "    <tr>\n",
              "      <th>4</th>\n",
              "      <td>neg</td>\n",
              "      <td>my first press screening of 1998 and already i...</td>\n",
              "    </tr>\n",
              "  </tbody>\n",
              "</table>\n",
              "</div>"
            ],
            "text/plain": [
              "  label                                             review\n",
              "0   neg  how do films like mouse hunt get into theatres...\n",
              "1   neg  some talented actresses are blessed with a dem...\n",
              "2   pos  this has been an extraordinary year for austra...\n",
              "3   pos  according to hollywood movies made in last few...\n",
              "4   neg  my first press screening of 1998 and already i..."
            ]
          },
          "metadata": {
            "tags": []
          },
          "execution_count": 121
        }
      ]
    },
    {
      "cell_type": "code",
      "metadata": {
        "id": "GuILW_E61iSl"
      },
      "source": [
        "import spacy\n",
        "nlp=spacy.load('en_core_web_lg',disable=['parser', 'ner'])"
      ],
      "execution_count": 63,
      "outputs": []
    },
    {
      "cell_type": "code",
      "metadata": {
        "id": "hrwhOdQG1LwP"
      },
      "source": [
        "STOPWORDS=nlp.Defaults.stop_words"
      ],
      "execution_count": 64,
      "outputs": []
    },
    {
      "cell_type": "code",
      "metadata": {
        "id": "ngXrKUn_81r3"
      },
      "source": [
        "import re\n",
        "import string"
      ],
      "execution_count": 65,
      "outputs": []
    },
    {
      "cell_type": "code",
      "metadata": {
        "colab": {
          "base_uri": "https://localhost:8080/"
        },
        "id": "oNbs0QAA1vs1",
        "outputId": "78bf5e37-6762-4c0e-cbe3-1948cb4fa74c"
      },
      "source": [
        "list(STOPWORDS)"
      ],
      "execution_count": 51,
      "outputs": [
        {
          "output_type": "execute_result",
          "data": {
            "text/plain": [
              "['their',\n",
              " 'him',\n",
              " 'very',\n",
              " 'neither',\n",
              " 'indeed',\n",
              " 'fifteen',\n",
              " '‘ll',\n",
              " 'thus',\n",
              " 'across',\n",
              " 'might',\n",
              " 'please',\n",
              " 'moreover',\n",
              " 'it',\n",
              " 'which',\n",
              " 'out',\n",
              " 'next',\n",
              " 'been',\n",
              " 'the',\n",
              " 'not',\n",
              " 'your',\n",
              " 'yourselves',\n",
              " 'various',\n",
              " 'had',\n",
              " 'that',\n",
              " 'some',\n",
              " \"'ve\",\n",
              " '‘re',\n",
              " 'they',\n",
              " 'see',\n",
              " 'while',\n",
              " 'who',\n",
              " 'hereby',\n",
              " 'among',\n",
              " 'mostly',\n",
              " 'often',\n",
              " 'become',\n",
              " 'them',\n",
              " 'where',\n",
              " 'before',\n",
              " 'my',\n",
              " 'used',\n",
              " 'whatever',\n",
              " 'side',\n",
              " '’d',\n",
              " 'ourselves',\n",
              " 'whereby',\n",
              " 'although',\n",
              " 'us',\n",
              " 'therefore',\n",
              " 'whether',\n",
              " 'seemed',\n",
              " \"'s\",\n",
              " 'eleven',\n",
              " 'through',\n",
              " 'ten',\n",
              " 'would',\n",
              " 'ours',\n",
              " 'became',\n",
              " 'may',\n",
              " 'made',\n",
              " 'without',\n",
              " 'most',\n",
              " 'seeming',\n",
              " '’ve',\n",
              " 'along',\n",
              " 'never',\n",
              " 'seem',\n",
              " 'besides',\n",
              " 'was',\n",
              " 'still',\n",
              " 'somewhere',\n",
              " 'bottom',\n",
              " 'sometimes',\n",
              " 'herein',\n",
              " 'call',\n",
              " \"'d\",\n",
              " 'always',\n",
              " 'anywhere',\n",
              " 'everywhere',\n",
              " 'this',\n",
              " 'amount',\n",
              " 'why',\n",
              " 'could',\n",
              " 'did',\n",
              " 'themselves',\n",
              " 'really',\n",
              " 'and',\n",
              " 'again',\n",
              " 'otherwise',\n",
              " 'also',\n",
              " 'throughout',\n",
              " 'else',\n",
              " 'being',\n",
              " 'onto',\n",
              " 'forty',\n",
              " 'regarding',\n",
              " 'for',\n",
              " 'third',\n",
              " 'herself',\n",
              " 'someone',\n",
              " 'between',\n",
              " 'her',\n",
              " 'done',\n",
              " 'than',\n",
              " 'whence',\n",
              " 'up',\n",
              " 'meanwhile',\n",
              " 'empty',\n",
              " 'cannot',\n",
              " 'only',\n",
              " 'well',\n",
              " 'yet',\n",
              " 'several',\n",
              " 'three',\n",
              " 'can',\n",
              " 'almost',\n",
              " 'so',\n",
              " 'many',\n",
              " 'now',\n",
              " 'sometime',\n",
              " 'upon',\n",
              " 'enough',\n",
              " 'hers',\n",
              " 'former',\n",
              " 'whereafter',\n",
              " 'move',\n",
              " 'i',\n",
              " 'will',\n",
              " 'quite',\n",
              " 'due',\n",
              " 'fifty',\n",
              " '’ll',\n",
              " '‘ve',\n",
              " 'serious',\n",
              " 'five',\n",
              " 'becomes',\n",
              " 'himself',\n",
              " 'he',\n",
              " 'twelve',\n",
              " 'after',\n",
              " 'beyond',\n",
              " 'whoever',\n",
              " 'together',\n",
              " 'doing',\n",
              " 'beforehand',\n",
              " 'nevertheless',\n",
              " 'over',\n",
              " 'but',\n",
              " '‘m',\n",
              " 'other',\n",
              " 'in',\n",
              " 'if',\n",
              " 'somehow',\n",
              " 'n’t',\n",
              " 'something',\n",
              " 'even',\n",
              " 'nowhere',\n",
              " \"n't\",\n",
              " 'there',\n",
              " 'get',\n",
              " 'you',\n",
              " 'via',\n",
              " 'others',\n",
              " 'both',\n",
              " 'already',\n",
              " 'hereafter',\n",
              " 'whose',\n",
              " 'part',\n",
              " 'give',\n",
              " 'when',\n",
              " 'around',\n",
              " 'should',\n",
              " 'less',\n",
              " 'myself',\n",
              " 'every',\n",
              " 'we',\n",
              " 'yours',\n",
              " 'make',\n",
              " 'until',\n",
              " 'whereupon',\n",
              " 'me',\n",
              " 'becoming',\n",
              " 'take',\n",
              " 'as',\n",
              " 'full',\n",
              " 'much',\n",
              " \"'re\",\n",
              " 'same',\n",
              " 'put',\n",
              " 'except',\n",
              " 'further',\n",
              " 'nothing',\n",
              " 'thereby',\n",
              " 'these',\n",
              " 'down',\n",
              " \"'ll\",\n",
              " 'ever',\n",
              " 'are',\n",
              " 'hence',\n",
              " 'because',\n",
              " 'formerly',\n",
              " 'say',\n",
              " 'she',\n",
              " 'during',\n",
              " 'once',\n",
              " 'those',\n",
              " 'mine',\n",
              " 'noone',\n",
              " 'within',\n",
              " 'beside',\n",
              " 'must',\n",
              " 'its',\n",
              " 'go',\n",
              " 'such',\n",
              " 'has',\n",
              " 'whole',\n",
              " 'more',\n",
              " 'few',\n",
              " 'n‘t',\n",
              " 'itself',\n",
              " 'with',\n",
              " 'twenty',\n",
              " 'then',\n",
              " 'at',\n",
              " 'alone',\n",
              " 'show',\n",
              " 'all',\n",
              " 'too',\n",
              " 'top',\n",
              " \"'m\",\n",
              " 'or',\n",
              " 'from',\n",
              " 'latter',\n",
              " 'each',\n",
              " 'back',\n",
              " 'last',\n",
              " 'using',\n",
              " 'ca',\n",
              " 'anything',\n",
              " 'have',\n",
              " 'name',\n",
              " 'latterly',\n",
              " 'whereas',\n",
              " 'sixty',\n",
              " 'anyhow',\n",
              " 'least',\n",
              " 'own',\n",
              " 'unless',\n",
              " 'toward',\n",
              " 'since',\n",
              " 'one',\n",
              " 'here',\n",
              " 'a',\n",
              " 'therein',\n",
              " 'into',\n",
              " 'nine',\n",
              " 'front',\n",
              " 'whenever',\n",
              " 'per',\n",
              " 'rather',\n",
              " 'thru',\n",
              " 'towards',\n",
              " 'thereafter',\n",
              " 'amongst',\n",
              " 'an',\n",
              " 'afterwards',\n",
              " 'hundred',\n",
              " '’m',\n",
              " 'do',\n",
              " 'six',\n",
              " 're',\n",
              " 'does',\n",
              " 'any',\n",
              " 'be',\n",
              " 'off',\n",
              " 'to',\n",
              " 'below',\n",
              " '’re',\n",
              " 'our',\n",
              " 'wherever',\n",
              " 'anyone',\n",
              " 'two',\n",
              " 'seems',\n",
              " 'everything',\n",
              " 'namely',\n",
              " 'behind',\n",
              " 'whom',\n",
              " 'by',\n",
              " 'thence',\n",
              " 'keep',\n",
              " 'elsewhere',\n",
              " '‘s',\n",
              " 'yourself',\n",
              " 'just',\n",
              " 'how',\n",
              " 'am',\n",
              " '’s',\n",
              " 'nor',\n",
              " 'on',\n",
              " 'his',\n",
              " 'eight',\n",
              " 'though',\n",
              " 'whither',\n",
              " 'perhaps',\n",
              " 'either',\n",
              " 'none',\n",
              " 'another',\n",
              " 'about',\n",
              " 'of',\n",
              " 'everyone',\n",
              " '‘d',\n",
              " 'hereupon',\n",
              " 'first',\n",
              " 'however',\n",
              " 'four',\n",
              " 'above',\n",
              " 'nobody',\n",
              " 'is',\n",
              " 'anyway',\n",
              " 'under',\n",
              " 'against',\n",
              " 'thereupon',\n",
              " 'no',\n",
              " 'were',\n",
              " 'what',\n",
              " 'wherein']"
            ]
          },
          "metadata": {
            "tags": []
          },
          "execution_count": 51
        }
      ]
    },
    {
      "cell_type": "code",
      "metadata": {
        "id": "9ruY1ByiaMGL"
      },
      "source": [
        "#preprocessing steps\n",
        "def clean_data_set(x):\n",
        "  #removing specials charaters from the sentence\n",
        "  x=re.sub(r'[^\\w ]+', \"\", str(x))\n",
        "  \n",
        "  doc=nlp(x)\n",
        "  #lemmatization\n",
        "  x=[token.lemma_ for token in doc ]\n",
        "  #conversion to lower case\n",
        "  x=[str(token).lower() for token in x]\n",
        "  #removal of stopwords\n",
        "  x=[token for token in x if token not in STOPWORDS]\n",
        "  #removal of numbers  \n",
        "  x=[token for token in x if not re.search('[0-9].*',token)]\n",
        "  x=[token for token in x if token!='-pron-']\n",
        "  x=' '.join(x)\n",
        "  return x\n",
        "\n",
        "  \n",
        "  \n"
      ],
      "execution_count": 127,
      "outputs": []
    },
    {
      "cell_type": "code",
      "metadata": {
        "id": "ZfGbqJM56w_0"
      },
      "source": [
        "df['review']=df['review'].apply(clean_data_set)"
      ],
      "execution_count": 128,
      "outputs": []
    },
    {
      "cell_type": "code",
      "metadata": {
        "colab": {
          "base_uri": "https://localhost:8080/",
          "height": 203
        },
        "id": "gke_PneYFp58",
        "outputId": "83b47e27-de5f-4d4c-a505-2c56139c5b9a"
      },
      "source": [
        "df.head()"
      ],
      "execution_count": 129,
      "outputs": [
        {
          "output_type": "execute_result",
          "data": {
            "text/html": [
              "<div>\n",
              "<style scoped>\n",
              "    .dataframe tbody tr th:only-of-type {\n",
              "        vertical-align: middle;\n",
              "    }\n",
              "\n",
              "    .dataframe tbody tr th {\n",
              "        vertical-align: top;\n",
              "    }\n",
              "\n",
              "    .dataframe thead th {\n",
              "        text-align: right;\n",
              "    }\n",
              "</style>\n",
              "<table border=\"1\" class=\"dataframe\">\n",
              "  <thead>\n",
              "    <tr style=\"text-align: right;\">\n",
              "      <th></th>\n",
              "      <th>label</th>\n",
              "      <th>review</th>\n",
              "    </tr>\n",
              "  </thead>\n",
              "  <tbody>\n",
              "    <tr>\n",
              "      <th>0</th>\n",
              "      <td>neg</td>\n",
              "      <td>film like mouse hunt theatre   law   diabolica...</td>\n",
              "    </tr>\n",
              "    <tr>\n",
              "      <th>1</th>\n",
              "      <td>neg</td>\n",
              "      <td>talented actress bless demonstrate wide acting...</td>\n",
              "    </tr>\n",
              "    <tr>\n",
              "      <th>2</th>\n",
              "      <td>pos</td>\n",
              "      <td>extraordinary year australian film     shine  ...</td>\n",
              "    </tr>\n",
              "    <tr>\n",
              "      <th>3</th>\n",
              "      <td>pos</td>\n",
              "      <td>accord hollywood movie decade   life small tow...</td>\n",
              "    </tr>\n",
              "    <tr>\n",
              "      <th>4</th>\n",
              "      <td>neg</td>\n",
              "      <td>press screening prime candidate bad year list ...</td>\n",
              "    </tr>\n",
              "  </tbody>\n",
              "</table>\n",
              "</div>"
            ],
            "text/plain": [
              "  label                                             review\n",
              "0   neg  film like mouse hunt theatre   law   diabolica...\n",
              "1   neg  talented actress bless demonstrate wide acting...\n",
              "2   pos  extraordinary year australian film     shine  ...\n",
              "3   pos  accord hollywood movie decade   life small tow...\n",
              "4   neg  press screening prime candidate bad year list ..."
            ]
          },
          "metadata": {
            "tags": []
          },
          "execution_count": 129
        }
      ]
    },
    {
      "cell_type": "markdown",
      "metadata": {
        "id": "r80EbvgXQV95"
      },
      "source": [
        "Word2Vec conversion below now.\n",
        "\n",
        "What is a vector in terms of NLP?\n",
        "\n",
        "Computer does not understand/process string characters only understand numeric ones. Therefore it is necessary to convert these into numeric representation.\n",
        "\n",
        "The number of dimensions represent no of ways a particular word/vector can be represented. Since word2vec is a NN and the vectors are calulated by mathematical operations one cannot be sure of what each dimension represents "
      ]
    },
    {
      "cell_type": "code",
      "metadata": {
        "id": "xmkIP6W-gIhi"
      },
      "source": [
        "def get_vec(x):\n",
        "  doc=nlp(x)\n",
        "  vec=doc.vector\n",
        "  return vec"
      ],
      "execution_count": 130,
      "outputs": []
    },
    {
      "cell_type": "code",
      "metadata": {
        "id": "TAgVPGmYGUoz"
      },
      "source": [
        "df['vec']=df['review'].apply(lambda x : get_vec(x))"
      ],
      "execution_count": 131,
      "outputs": []
    },
    {
      "cell_type": "code",
      "metadata": {
        "colab": {
          "base_uri": "https://localhost:8080/",
          "height": 203
        },
        "id": "Igv6fqFIgUyL",
        "outputId": "efcc5040-48e8-4bbd-d596-62591f875a7c"
      },
      "source": [
        "df.head()"
      ],
      "execution_count": 153,
      "outputs": [
        {
          "output_type": "execute_result",
          "data": {
            "text/html": [
              "<div>\n",
              "<style scoped>\n",
              "    .dataframe tbody tr th:only-of-type {\n",
              "        vertical-align: middle;\n",
              "    }\n",
              "\n",
              "    .dataframe tbody tr th {\n",
              "        vertical-align: top;\n",
              "    }\n",
              "\n",
              "    .dataframe thead th {\n",
              "        text-align: right;\n",
              "    }\n",
              "</style>\n",
              "<table border=\"1\" class=\"dataframe\">\n",
              "  <thead>\n",
              "    <tr style=\"text-align: right;\">\n",
              "      <th></th>\n",
              "      <th>label</th>\n",
              "      <th>review</th>\n",
              "      <th>vec</th>\n",
              "    </tr>\n",
              "  </thead>\n",
              "  <tbody>\n",
              "    <tr>\n",
              "      <th>0</th>\n",
              "      <td>neg</td>\n",
              "      <td>film like mouse hunt theatre   law   diabolica...</td>\n",
              "      <td>[-0.05718131, -0.0139228795, -0.0357752, -0.02...</td>\n",
              "    </tr>\n",
              "    <tr>\n",
              "      <th>1</th>\n",
              "      <td>neg</td>\n",
              "      <td>talented actress bless demonstrate wide acting...</td>\n",
              "      <td>[-0.051694006, 0.08378091, -0.056704335, -0.00...</td>\n",
              "    </tr>\n",
              "    <tr>\n",
              "      <th>2</th>\n",
              "      <td>pos</td>\n",
              "      <td>extraordinary year australian film     shine  ...</td>\n",
              "      <td>[-0.013633819, 0.062129304, -0.019596862, -0.0...</td>\n",
              "    </tr>\n",
              "    <tr>\n",
              "      <th>3</th>\n",
              "      <td>pos</td>\n",
              "      <td>accord hollywood movie decade   life small tow...</td>\n",
              "      <td>[0.035942625, 0.032176398, 0.01065731, 0.02000...</td>\n",
              "    </tr>\n",
              "    <tr>\n",
              "      <th>4</th>\n",
              "      <td>neg</td>\n",
              "      <td>press screening prime candidate bad year list ...</td>\n",
              "      <td>[-0.024637252, 0.03194708, -0.063816905, -0.00...</td>\n",
              "    </tr>\n",
              "  </tbody>\n",
              "</table>\n",
              "</div>"
            ],
            "text/plain": [
              "  label  ...                                                vec\n",
              "0   neg  ...  [-0.05718131, -0.0139228795, -0.0357752, -0.02...\n",
              "1   neg  ...  [-0.051694006, 0.08378091, -0.056704335, -0.00...\n",
              "2   pos  ...  [-0.013633819, 0.062129304, -0.019596862, -0.0...\n",
              "3   pos  ...  [0.035942625, 0.032176398, 0.01065731, 0.02000...\n",
              "4   neg  ...  [-0.024637252, 0.03194708, -0.063816905, -0.00...\n",
              "\n",
              "[5 rows x 3 columns]"
            ]
          },
          "metadata": {
            "tags": []
          },
          "execution_count": 153
        }
      ]
    },
    {
      "cell_type": "code",
      "metadata": {
        "id": "WoBQ5hFmggjj"
      },
      "source": [
        "#converting to a numpy array\n",
        "\n",
        "X=df['vec'].to_numpy()\n",
        "X=X.reshape(-1,1)\n"
      ],
      "execution_count": 159,
      "outputs": []
    },
    {
      "cell_type": "code",
      "metadata": {
        "colab": {
          "base_uri": "https://localhost:8080/"
        },
        "id": "kWgfYoWUnrM4",
        "outputId": "180634fe-862f-42ec-bab8-3ef61e8e1a51"
      },
      "source": [
        "X.shape"
      ],
      "execution_count": 160,
      "outputs": [
        {
          "output_type": "execute_result",
          "data": {
            "text/plain": [
              "(2000, 1)"
            ]
          },
          "metadata": {
            "tags": []
          },
          "execution_count": 160
        }
      ]
    },
    {
      "cell_type": "code",
      "metadata": {
        "id": "XBebBhacntWS"
      },
      "source": [
        "X=np.concatenate(X,axis=0)"
      ],
      "execution_count": 161,
      "outputs": []
    },
    {
      "cell_type": "code",
      "metadata": {
        "colab": {
          "base_uri": "https://localhost:8080/"
        },
        "id": "nKHoeuHroFeb",
        "outputId": "dfa1699a-7b9d-439c-ebe0-a39287b0cfe6"
      },
      "source": [
        "X"
      ],
      "execution_count": 162,
      "outputs": [
        {
          "output_type": "execute_result",
          "data": {
            "text/plain": [
              "array([array([-5.71813099e-02, -1.39228795e-02, -3.57751995e-02, -2.61799786e-02,\n",
              "       -2.16462594e-02,  1.63589884e-02,  4.30012308e-02, -1.36611179e-01,\n",
              "        3.87606323e-02,  1.42046583e+00, -7.90883601e-02, -4.67250720e-02,\n",
              "       -2.06579566e-02,  2.81155836e-02, -4.01223935e-02,  1.84204318e-02,\n",
              "       -4.83732810e-03,  5.14249980e-01, -1.37454532e-02, -3.01842997e-03,\n",
              "        1.07199140e-02,  5.32269990e-03,  1.63153298e-02, -3.19665708e-02,\n",
              "        6.43265434e-03,  9.52190347e-03, -4.20761630e-02, -5.36383800e-02,\n",
              "        2.52457783e-02, -3.98481935e-02, -5.93247265e-02, -4.10275385e-02,\n",
              "       -1.10948205e-01,  1.15025833e-01,  5.20179421e-02, -1.11289080e-02,\n",
              "        4.15156074e-02,  6.46287575e-02, -7.65119866e-02,  4.01903987e-02,\n",
              "        1.95610616e-02,  3.04015111e-02, -5.36678918e-02, -6.33278191e-02,\n",
              "        9.73960608e-02, -6.64524967e-03,  1.08670043e-02,  7.44603481e-03,\n",
              "        1.27520636e-02,  1.82524435e-02,  5.63356094e-02,  3.50789055e-02,\n",
              "        2.42845844e-02,  1.74276065e-02,  2.70629637e-02, -1.87972691e-02,\n",
              "       -2.68413853e-02, -9.02161524e-02,  1.80711094e-02, -3.83456908e-02,\n",
              "       -2.42828056e-02,  2.90175285e-02,  1.21656284e-02, -2.42348257e-02,\n",
              "        6.80875629e-02, -4.67351153e-02, -4.34757285e-02, -3.00431345e-03,\n",
              "        2.07706764e-02, -2.49156076e-02,  9.35398042e-02, -4.67679799e-02,\n",
              "        1.53973121e-02,  7.37555698e-03,  9.05755535e-03,  2.94200405e-02,\n",
              "       -4.44954075e-02, -7.65705630e-02,  1.71447434e-02,  6.02792688e-02,\n",
              "       -3.15199085e-02,  3.24566439e-02, -3.50032523e-02, -2.87798215e-02,\n",
              "       -4.71299626e-02, -3.03974152e-02,  1.79311857e-01, -2.82546636e-02,\n",
              "        1.16756134e-01, -1.82558876e-02, -1.48833483e-01,  4.72760275e-02,\n",
              "       -9.11095813e-02,  1.66306054e-04,  3.52099650e-02, -2.95945425e-02,\n",
              "       -4.39464115e-02,  3.10734659e-02,  7.15630071e-04,  5.00381365e-02,\n",
              "       -2.98885498e-02, -1.80620942e-02, -6.64192885e-02, -4.26810384e-02,\n",
              "        1.05313741e-01, -8.41118395e-01,  9.24203731e-03,  5.33604324e-02,\n",
              "        3.88311851e-03, -7.24526644e-02,  4.18699719e-02, -3.32486853e-02,\n",
              "        6.93402439e-02, -3.49920802e-02,  7.14138336e-03, -9.78699303e-04,\n",
              "       -1.31167099e-02, -2.90841702e-02, -1.25545450e-02, -1.38741182e-02,\n",
              "       -2.68771071e-02, -6.98891506e-02, -1.45151448e-02, -4.34864138e-04,\n",
              "        4.19070274e-02, -3.24222073e-02, -2.71656434e-03,  9.08307811e-06,\n",
              "       -8.25051963e-02,  5.97844506e-03,  5.75284380e-03,  5.51779121e-02,\n",
              "        3.70335430e-02,  2.54956763e-02, -4.85348050e-03, -5.87193947e-03,\n",
              "       -9.39718634e-02, -1.45447934e-02,  3.92490625e-03, -4.79752459e-02,\n",
              "       -1.31232262e+00, -7.13066605e-04, -2.77804825e-02, -3.25626805e-02,\n",
              "       -2.04450786e-02, -3.78040709e-02,  1.65337510e-03, -7.24285021e-02,\n",
              "        6.82891831e-02, -2.22386289e-02,  4.45166156e-02, -2.76903762e-03,\n",
              "        6.01031631e-02, -7.89803173e-03,  5.08312955e-02, -9.89502966e-02,\n",
              "       -2.05609966e-02, -6.95912614e-02, -2.06091311e-02, -1.04984693e-01,\n",
              "       -4.06554760e-03, -1.02935471e-01,  3.24515626e-03,  4.56208959e-02,\n",
              "        7.89356977e-03, -1.04250856e-01,  1.56934280e-02, -9.94458646e-02,\n",
              "        7.19904304e-02, -2.23996993e-02, -3.18252221e-02, -2.00601923e-03,\n",
              "        2.37885602e-02, -1.07830681e-03,  6.46026731e-02, -3.39345299e-02,\n",
              "       -4.12151217e-02,  4.36523138e-03, -3.30958180e-02, -3.41626927e-02,\n",
              "        5.71979657e-02, -9.55899805e-02,  1.49459969e-02,  6.49438053e-02,\n",
              "        4.86925989e-03, -5.72601147e-03,  8.21676664e-03, -2.49882285e-02,\n",
              "        4.73755039e-02,  1.00742616e-02, -3.81615311e-02, -4.45152866e-03,\n",
              "       -3.40006165e-02, -4.26891213e-03, -2.24969964e-02, -6.46612495e-02,\n",
              "       -3.68446559e-02, -7.27043822e-02,  5.53841144e-02,  2.71521695e-02,\n",
              "       -5.05224988e-02,  1.70233306e-02, -4.36704494e-02, -7.06311911e-02,\n",
              "       -1.63095463e-02,  4.52362448e-02,  1.81913376e-02,  1.70249417e-02,\n",
              "        7.44302347e-02,  4.78109308e-02,  1.11319777e-02,  3.49507593e-02,\n",
              "        3.39851715e-02, -4.42102924e-02,  2.77223177e-02, -5.10311977e-04,\n",
              "        1.47111222e-01,  1.03204727e-01, -8.51404667e-02, -9.25981533e-03,\n",
              "        3.87509428e-02, -3.59459664e-03, -4.97562550e-02, -1.41430711e-02,\n",
              "        1.45417182e-02, -3.41916606e-02, -2.96018925e-02,  3.58620398e-02,\n",
              "       -1.57440845e-02, -6.83415756e-02, -6.38305098e-02,  5.20575903e-02,\n",
              "        2.01305263e-02,  5.12009189e-02, -2.41885725e-02, -7.46197253e-03,\n",
              "       -3.78415897e-03, -7.36696122e-04, -3.18114506e-03,  6.61471635e-02,\n",
              "        2.85968632e-02,  4.93381219e-03,  1.18574118e-02,  2.96715163e-02,\n",
              "       -3.26523334e-02,  1.53385438e-02,  3.80936282e-04, -4.44176868e-02,\n",
              "        1.23733301e-02,  7.75087401e-02, -2.48597004e-02, -2.57685184e-02,\n",
              "        1.58669092e-02,  1.92240216e-02,  8.27715360e-03,  1.86852161e-02,\n",
              "        3.23672034e-02,  3.90048325e-02, -2.39399131e-02, -1.00071719e-02,\n",
              "        1.58077590e-02,  8.00814182e-02,  8.64555538e-02, -3.64089087e-02,\n",
              "        1.01118542e-01,  6.04031654e-03, -2.15486903e-02,  7.40847131e-03,\n",
              "        1.70401394e-01,  1.18794590e-01, -8.40829536e-02, -7.00809853e-03,\n",
              "       -4.91859727e-02, -1.04223788e-01, -9.36286822e-02,  2.19594464e-02,\n",
              "        1.19922850e-02, -6.82169721e-02, -5.43855689e-03,  8.69552270e-02,\n",
              "        1.03287414e-01,  1.45706395e-02,  1.42819714e-02, -9.40385368e-03,\n",
              "       -3.33111659e-02,  9.66046937e-03,  5.36769889e-02, -6.50857389e-02,\n",
              "        1.27587765e-02, -8.32140446e-02, -1.15213364e-01,  8.12687948e-02,\n",
              "       -3.87581512e-02,  3.79403681e-02,  5.62885478e-02,  5.54661416e-02,\n",
              "       -2.62481570e-02,  1.90829136e-03, -6.08788244e-02,  1.73970480e-02],\n",
              "      dtype=float32),\n",
              "       array([-5.16940057e-02,  8.37809071e-02, -5.67043349e-02, -7.01243617e-03,\n",
              "        4.35092300e-02,  1.36082899e-02,  3.42735760e-02, -9.19221789e-02,\n",
              "        2.12182105e-02,  1.33838379e+00, -5.52685820e-02, -5.03773615e-03,\n",
              "       -1.75626911e-02, -2.81059649e-02, -5.87003455e-02,  3.20433453e-02,\n",
              "        7.42314057e-03,  5.75979352e-01, -5.95060065e-02, -1.02215959e-02,\n",
              "        1.35523034e-02, -7.27222636e-02,  2.69842260e-02, -6.93429187e-02,\n",
              "        3.82166244e-02,  3.52862701e-02, -2.56783459e-02, -1.13359196e-02,\n",
              "       -1.10098748e-02, -5.93295954e-02, -7.63410553e-02,  2.10866127e-02,\n",
              "       -6.53952509e-02,  3.46378982e-02,  6.77459538e-02, -1.43408459e-02,\n",
              "        3.38432491e-02,  2.75849435e-03, -6.70903996e-02,  2.39020912e-03,\n",
              "        4.73028012e-02, -4.09599580e-03, -4.37735431e-02, -5.21940775e-02,\n",
              "        3.64242867e-02, -1.94357019e-02, -8.25511739e-02,  9.00721364e-03,\n",
              "        1.08986031e-02,  2.28860378e-02,  3.21433763e-03,  4.15462255e-03,\n",
              "        2.16184445e-02, -4.27995957e-02,  1.62839424e-02,  3.21262367e-02,\n",
              "       -6.26910254e-02, -2.78427061e-02,  1.24943778e-02, -6.58033714e-02,\n",
              "       -6.29905090e-02, -1.30611341e-04, -8.36720574e-05, -8.74538906e-03,\n",
              "        5.91840073e-02, -6.72223270e-02, -4.36818227e-02, -8.37938301e-03,\n",
              "        1.54831791e-02, -1.24762002e-02,  3.92353348e-02, -4.37667817e-02,\n",
              "        1.53647978e-02, -2.47904286e-02,  1.88165214e-02,  2.54888106e-02,\n",
              "       -2.30914596e-02, -2.49761622e-03,  7.42486212e-03,  4.16110642e-02,\n",
              "        6.11598510e-03,  1.09339003e-02, -5.38211316e-02,  3.34210396e-02,\n",
              "       -2.98654176e-02, -6.65085688e-02,  1.65964335e-01, -5.16280495e-02,\n",
              "        8.37527141e-02, -5.24694994e-02, -1.27817079e-01, -3.29814032e-02,\n",
              "       -4.80977520e-02,  3.70946378e-02,  7.97948688e-02, -6.21185936e-02,\n",
              "        2.48411074e-02,  4.55091853e-04, -3.15189958e-02, -3.37615497e-02,\n",
              "        2.72761695e-02, -1.73470434e-02,  5.95557457e-03, -3.55140120e-03,\n",
              "        5.61090074e-02, -7.50850976e-01,  2.73103453e-02, -2.21950971e-02,\n",
              "       -3.35066170e-02, -5.94756519e-03,  1.96426176e-02,  1.47016319e-02,\n",
              "        3.99683282e-04, -4.81603928e-02,  1.10105472e-02, -2.18018214e-03,\n",
              "        5.63550964e-02,  1.06757358e-02,  3.26123461e-02,  2.22612564e-02,\n",
              "       -3.34588289e-02, -4.24209051e-02, -5.56496158e-02,  4.00497317e-02,\n",
              "        2.16358118e-02,  5.93910832e-03, -4.45425436e-02, -7.27024442e-03,\n",
              "       -4.45724092e-02, -3.71535728e-03,  2.01816298e-02,  1.97469443e-02,\n",
              "        2.69151106e-02,  1.67566235e-03,  4.03215699e-02,  1.65282749e-02,\n",
              "       -4.15596589e-02, -2.31779609e-02,  1.34235108e-02, -5.72688282e-02,\n",
              "       -1.15922487e+00,  4.05528629e-03,  2.36574784e-02,  3.87975760e-02,\n",
              "       -7.00914860e-02, -3.43311131e-02,  6.04263507e-04, -3.41674015e-02,\n",
              "       -2.84259120e-04,  1.85617289e-04, -1.40838034e-03,  7.16652814e-03,\n",
              "        2.37768162e-02,  4.69593285e-03, -7.02719111e-03, -4.85131554e-02,\n",
              "       -3.21148932e-02, -1.15712643e-01,  2.06014831e-02, -8.48797038e-02,\n",
              "        1.16775651e-02, -5.84277771e-02, -4.20458242e-02,  3.57626565e-02,\n",
              "        5.21308463e-03, -5.50322644e-02,  1.72123089e-02, -4.31858227e-02,\n",
              "        1.33762080e-02, -3.21753919e-02, -4.71614338e-02, -3.44300382e-02,\n",
              "        7.04094768e-02, -3.28631327e-02,  4.19507287e-02, -1.15006864e-02,\n",
              "       -3.26382779e-02,  1.43918935e-02, -8.94310977e-03,  1.03820208e-03,\n",
              "        1.29388543e-02, -2.20699236e-04, -1.11962939e-02,  4.33849311e-03,\n",
              "        2.85603032e-02,  2.80811843e-02, -4.50505726e-02,  1.78096369e-02,\n",
              "       -4.93147131e-03, -2.76505668e-02, -3.82428579e-02, -3.18714008e-02,\n",
              "       -3.88959348e-02,  1.25584900e-02,  2.58526718e-03, -3.06260623e-02,\n",
              "       -6.10327581e-03, -4.49972935e-02,  5.28484695e-02,  5.81566542e-02,\n",
              "       -1.81072243e-02, -1.37599036e-02, -4.61627021e-02, -4.62368838e-02,\n",
              "       -2.34626867e-02,  4.02618349e-02, -1.85691137e-02, -2.97156349e-02,\n",
              "       -1.39790168e-03,  3.77541967e-02, -7.44162723e-02,  2.14675758e-02,\n",
              "        3.36994641e-02, -6.88670799e-02,  4.26500663e-02,  7.47151002e-02,\n",
              "        6.54214621e-02,  1.33028906e-02, -6.55263513e-02, -4.94171381e-02,\n",
              "        4.62589879e-03, -8.29318818e-03, -3.26409377e-02,  1.24006914e-02,\n",
              "        3.13747041e-02, -2.31674109e-02, -5.07683828e-02,  8.67506955e-03,\n",
              "        6.08970821e-02, -4.12045978e-03, -7.05813095e-02,  4.27979566e-02,\n",
              "        3.48472074e-02,  5.14359064e-02, -6.52156770e-02, -3.91882583e-02,\n",
              "        2.78869662e-02,  1.56181436e-02, -4.91276123e-02,  4.70062830e-02,\n",
              "        4.34175879e-02,  1.07139423e-02,  2.85467003e-02, -1.35881146e-02,\n",
              "        9.77103878e-03,  6.02797326e-03, -3.11904941e-02, -3.69981106e-04,\n",
              "       -2.73753460e-02,  4.64240573e-02,  7.66299665e-03,  1.94547735e-02,\n",
              "       -2.85507161e-02,  1.25420105e-04, -2.83119474e-02,  6.94214106e-02,\n",
              "        3.95878516e-02,  2.91498145e-03, -2.12383363e-02, -1.10099511e-02,\n",
              "        2.30121631e-02,  9.02262554e-02,  2.57588252e-02,  1.83740444e-02,\n",
              "        6.29450660e-03, -2.81920983e-03, -1.36602251e-02,  1.81943886e-02,\n",
              "        1.12445682e-01,  5.62800840e-02, -9.45873037e-02,  1.44582912e-02,\n",
              "       -6.09231330e-02, -6.59859553e-02, -6.90693259e-02,  4.52492759e-02,\n",
              "        5.73938759e-03, -3.37869003e-02, -8.91962368e-03,  9.74437147e-02,\n",
              "        2.84049734e-02,  3.53903733e-02, -8.88864137e-03, -2.42241081e-02,\n",
              "       -1.40029844e-02, -1.19164372e-02,  2.10525747e-02, -1.10634128e-02,\n",
              "        4.40818854e-02, -7.19066039e-02, -4.34589610e-02,  5.71451746e-02,\n",
              "       -3.93446386e-02,  1.08503951e-02,  4.94750552e-02,  5.39313629e-02,\n",
              "        1.07231550e-02,  7.92168733e-03, -4.75301454e-03,  1.58046037e-02],\n",
              "      dtype=float32),\n",
              "       array([-1.36338193e-02,  6.21293038e-02, -1.95968617e-02, -1.05323931e-02,\n",
              "        9.59152877e-02, -6.93989871e-03, -4.18706834e-02,  2.92261131e-04,\n",
              "       -2.87187472e-02,  1.36226845e+00, -8.85239467e-02, -9.89029743e-03,\n",
              "       -3.36501887e-03, -4.04564925e-02, -3.87346298e-02,  2.27328446e-02,\n",
              "       -6.96915062e-03,  5.48438251e-01, -9.59222857e-03, -3.55985090e-02,\n",
              "        1.17853917e-02, -6.15004152e-02,  1.06853340e-02, -8.01570993e-03,\n",
              "        6.67999266e-03,  1.90353915e-02, -2.37896759e-02,  2.62808483e-02,\n",
              "       -2.39838026e-02,  5.01153758e-03, -2.16004774e-02,  3.22095118e-02,\n",
              "       -3.76008861e-02,  9.07906145e-03,  4.64766808e-02, -3.52736451e-02,\n",
              "        1.32564800e-02, -3.71437594e-02, -3.00912745e-02, -2.93834461e-03,\n",
              "        5.54498285e-02,  1.27188116e-02,  2.48310976e-02, -4.34883982e-02,\n",
              "        6.54932857e-02, -1.03775342e-03, -4.26493865e-03, -2.67824195e-02,\n",
              "        1.01620080e-02, -1.59254279e-02,  6.43698499e-03, -1.05287246e-02,\n",
              "        1.22520365e-02, -7.08050095e-03,  4.59608734e-02,  6.83752149e-02,\n",
              "       -4.49092835e-02, -1.55557636e-02,  8.16222932e-03, -3.02064288e-02,\n",
              "       -7.93047696e-02, -2.92044021e-02,  2.44810302e-02,  1.70654878e-02,\n",
              "       -6.50174450e-03, -5.60181476e-02, -4.58613187e-02,  1.18475994e-02,\n",
              "        1.77768376e-02, -2.33165193e-02,  2.95209768e-03, -4.01831754e-02,\n",
              "       -2.16212124e-02, -8.72086734e-03,  1.03203980e-02,  1.75923109e-02,\n",
              "       -4.18151356e-02, -8.74333363e-03, -2.16647927e-02, -8.65086168e-03,\n",
              "        3.48977782e-02,  4.78038825e-02, -2.12697327e-04,  2.37672124e-02,\n",
              "       -8.56888667e-03, -4.85809818e-02,  1.01763368e-01,  3.49565372e-02,\n",
              "        4.13359217e-02, -1.32097080e-02, -8.50182176e-02, -4.11840825e-04,\n",
              "       -3.00648622e-02,  1.82237159e-02,  6.81587756e-02, -4.73681912e-02,\n",
              "       -2.86005549e-02,  1.99987609e-02, -1.40576726e-02, -1.93112586e-02,\n",
              "        6.83444664e-02,  2.68607996e-02,  2.66132429e-02, -1.73889194e-02,\n",
              "        4.07142676e-02, -7.29640722e-01, -1.24468412e-02,  3.66644301e-02,\n",
              "       -1.48904156e-02, -1.32525098e-02,  2.54374519e-02, -4.23129648e-02,\n",
              "        1.67546906e-02, -6.91081351e-03,  3.41940708e-02,  3.61560509e-02,\n",
              "        4.87885065e-02, -2.47321953e-03, -3.39358300e-02,  3.61252315e-02,\n",
              "       -2.61071529e-02, -4.56043482e-02, -4.59759943e-02,  1.75566860e-02,\n",
              "        5.58985621e-02,  4.44375947e-02,  1.46536268e-02, -3.47616263e-02,\n",
              "       -2.41262671e-02, -1.95149295e-02,  1.10478997e-02, -2.54973061e-02,\n",
              "       -2.86663231e-02,  8.04433599e-04,  5.53139783e-02,  7.24666473e-03,\n",
              "       -3.02925818e-02, -1.82157978e-02,  1.58101656e-02, -4.86781523e-02,\n",
              "       -9.70858812e-01,  1.75107252e-02,  6.07894026e-02,  1.79686025e-02,\n",
              "       -3.26892473e-02, -3.71749923e-02,  1.60918869e-02,  1.31387096e-02,\n",
              "       -1.94293521e-02, -3.52191105e-02, -2.60161497e-02,  1.32509843e-02,\n",
              "        9.07192100e-03,  2.27287319e-02, -2.08904445e-02,  1.12371007e-02,\n",
              "       -3.97828594e-02, -7.62928352e-02, -1.11379018e-02,  7.80347176e-03,\n",
              "        3.83454189e-02, -5.26684262e-02,  4.76249168e-03,  5.06927669e-02,\n",
              "        3.44177224e-02, -4.28808406e-02,  1.60850026e-02, -7.69292936e-02,\n",
              "        1.96324792e-02,  9.40156635e-03, -8.48509278e-03,  8.05218052e-03,\n",
              "        2.91929264e-02,  2.82469741e-03,  4.46122792e-03,  3.48612033e-02,\n",
              "       -2.23047063e-02,  2.07412299e-02,  4.48809937e-02, -1.28805907e-02,\n",
              "       -2.86918972e-03,  1.90175045e-02, -1.33730099e-02, -1.57613680e-02,\n",
              "        1.28733600e-02,  4.89983186e-02, -6.34258538e-02,  1.01270685e-02,\n",
              "        3.47250514e-02, -4.77874018e-02, -7.39825368e-02,  8.48135271e-04,\n",
              "       -4.15850542e-02, -2.11807340e-02,  4.80469801e-02, -7.30005151e-04,\n",
              "       -2.76329368e-03, -5.93651310e-02,  3.26640457e-02,  1.31744696e-02,\n",
              "       -1.00938017e-02,  2.36722897e-03, -1.04462868e-02, -2.58715660e-03,\n",
              "        2.52964981e-02,  4.43233661e-02,  6.40976429e-03,  2.05688402e-02,\n",
              "        1.34091955e-02, -1.28302928e-02, -1.74512956e-02,  3.31635177e-02,\n",
              "        7.22331554e-03, -4.10207547e-02,  2.20402125e-02,  5.17455935e-02,\n",
              "        3.29958312e-02,  2.70837033e-03,  2.94079445e-02, -2.68286909e-03,\n",
              "       -2.67648008e-02, -6.19093888e-03, -1.08712111e-02,  4.56907898e-02,\n",
              "        4.09800746e-02, -1.15162581e-02, -3.17261741e-02, -3.86128994e-03,\n",
              "        1.19586149e-02,  2.89006121e-02, -4.44018468e-02,  3.89176272e-02,\n",
              "        3.28381211e-02,  6.28456548e-02, -2.43987963e-02, -1.94225255e-02,\n",
              "       -3.91509719e-02, -6.07125275e-03, -3.07225678e-02,  4.52148467e-02,\n",
              "        1.84801593e-02,  1.47098452e-02,  2.94882096e-02, -6.37475997e-02,\n",
              "        1.10269319e-02,  3.47207375e-02, -3.34393382e-02, -2.54114345e-02,\n",
              "       -2.93921586e-02, -5.16014136e-02,  1.69598106e-02,  2.26176381e-02,\n",
              "       -2.18744073e-02,  3.50815393e-02, -2.19791122e-02,  1.15221225e-01,\n",
              "        3.78387757e-02, -1.16535015e-02,  3.92982410e-03,  3.12874578e-02,\n",
              "        1.93656571e-02,  3.57832015e-02,  1.83982663e-02,  3.29294950e-02,\n",
              "        1.62231773e-02, -6.64118454e-02,  2.60904767e-02,  1.10124471e-03,\n",
              "        3.44901457e-02,  1.05701037e-01, -1.34613782e-01,  8.36633425e-03,\n",
              "       -5.46706095e-02, -3.03674731e-02, -4.84841205e-02,  4.94979881e-02,\n",
              "        1.06571149e-02, -5.49183134e-03, -1.87882949e-02,  7.81607628e-02,\n",
              "        7.39812665e-03,  1.57803893e-02, -2.79282685e-02, -1.08056106e-02,\n",
              "       -8.57018605e-02, -1.88210495e-02,  6.20847903e-02, -3.71657461e-02,\n",
              "        1.60282627e-02, -6.27137050e-02, -1.33591831e-01,  3.22837345e-02,\n",
              "       -3.87217551e-02, -5.45997396e-02, -9.36229341e-03,  5.13568074e-02,\n",
              "        2.31936891e-02, -9.42842849e-03, -2.32294202e-02,  1.11248875e-02],\n",
              "      dtype=float32),\n",
              "       ...,\n",
              "       array([-3.93268168e-02,  6.48941696e-02, -2.79062316e-02, -3.70791778e-02,\n",
              "        1.17108654e-02,  2.68437304e-02,  1.60835981e-02, -7.55060911e-02,\n",
              "        8.77081137e-03,  1.11976898e+00, -3.46153602e-02,  3.22632701e-03,\n",
              "       -1.23895356e-03, -3.43259089e-02, -4.49322676e-03, -6.22251956e-03,\n",
              "        1.09137734e-02,  4.72744852e-01, -1.33587904e-02, -5.22528477e-02,\n",
              "       -2.51728464e-02, -7.86529016e-03,  4.89777997e-02, -7.80067071e-02,\n",
              "       -6.82460750e-03,  1.37842391e-02, -1.83644406e-02, -4.75820191e-02,\n",
              "       -3.05334385e-02, -6.26317412e-02, -3.22491787e-02, -2.68813241e-02,\n",
              "       -8.41978788e-02,  7.34803155e-02,  5.54070175e-02, -3.59625183e-02,\n",
              "        3.25512551e-02,  7.88970515e-02, -5.94220385e-02, -1.42474044e-02,\n",
              "        7.22927079e-02,  6.01915084e-03, -2.53476314e-02, -4.64778729e-02,\n",
              "        6.03738092e-02,  4.36121821e-02, -3.26020680e-02,  1.91729423e-02,\n",
              "        2.82495786e-02,  3.42791006e-02,  5.41068502e-02,  1.56289432e-02,\n",
              "        3.37701030e-02,  1.39603028e-02, -1.87793300e-02,  2.60171723e-02,\n",
              "       -2.79723629e-02, -6.54676408e-02,  2.53436174e-02, -2.46151611e-02,\n",
              "       -6.84809387e-02, -7.46991485e-03,  3.88262956e-03, -2.08356902e-02,\n",
              "        3.86138894e-02, -1.79685801e-02, -2.61757486e-02, -2.18779547e-03,\n",
              "        2.95184739e-02, -3.35052307e-03,  9.13181528e-02, -1.07674368e-01,\n",
              "       -6.73551718e-03, -1.38321857e-03,  4.16013272e-03, -2.16394905e-02,\n",
              "       -4.53610346e-02, -1.76960975e-02, -5.10561876e-02,  5.21200411e-02,\n",
              "        1.52722336e-02, -3.00149387e-03,  1.98170543e-02,  2.13570055e-02,\n",
              "       -4.83985543e-02, -1.37160309e-02,  1.51956812e-01, -9.03563946e-03,\n",
              "        5.09552881e-02, -2.77898964e-02, -1.18208215e-01,  4.37294059e-02,\n",
              "       -8.88033286e-02,  3.45677063e-02,  8.40195641e-02, -4.24688831e-02,\n",
              "        2.11692974e-03,  1.61422566e-02, -5.99248633e-02, -6.54580723e-03,\n",
              "        6.57229405e-03, -3.30483653e-02,  7.68617773e-03, -1.08029600e-02,\n",
              "        5.99321015e-02, -6.72390044e-01,  3.61791067e-02, -2.10175216e-02,\n",
              "       -1.06479749e-02, -4.67768013e-02,  1.95905957e-02,  7.11080525e-03,\n",
              "        2.19913945e-02, -4.29118201e-02, -2.07275786e-02,  8.22572503e-03,\n",
              "        9.63579211e-03,  3.51999961e-02,  3.99559475e-02,  6.92570070e-03,\n",
              "       -2.58186366e-02, -3.58720496e-02, -5.61184213e-02,  2.55489089e-02,\n",
              "        2.59569641e-02,  3.26376073e-02, -8.52408353e-03, -2.67004315e-03,\n",
              "       -1.61901657e-02, -2.18401849e-03, -9.02794953e-03, -2.50680652e-02,\n",
              "        2.54375581e-02,  2.82479860e-02,  2.03133170e-02,  3.40838507e-02,\n",
              "       -6.09424897e-02, -3.34715731e-02, -2.15420015e-02, -5.93183972e-02,\n",
              "       -1.10639644e+00,  6.92780362e-04,  3.86337005e-02, -5.48913726e-04,\n",
              "       -2.99739502e-02, -6.09031469e-02, -6.19962392e-03, -2.20349077e-02,\n",
              "        5.10581248e-02, -1.20697627e-02,  1.63979977e-02,  1.89034659e-02,\n",
              "        1.88525412e-02,  2.45894846e-02,  3.11052389e-02, -7.62460828e-02,\n",
              "       -3.73277627e-02, -9.71595198e-02,  2.41065547e-02, -1.23337973e-02,\n",
              "       -1.40356794e-02, -6.07827418e-02,  1.26038608e-03,  4.64592203e-02,\n",
              "        5.73484115e-02, -9.49809253e-02,  2.37725377e-02, -5.29558323e-02,\n",
              "        1.71160940e-02, -2.55970135e-02, -3.43378410e-02, -3.78205702e-02,\n",
              "        3.84532586e-02, -4.55198027e-02,  3.94324248e-04, -1.10481717e-02,\n",
              "       -1.30891828e-02, -2.23185550e-02, -1.21262781e-02,  1.04859397e-02,\n",
              "       -1.99275855e-02, -5.74319577e-03,  3.84924673e-02,  3.96038294e-02,\n",
              "        5.75186163e-02,  1.03531303e-02, -2.17380542e-02,  4.89601120e-02,\n",
              "       -1.12171541e-03, -5.65218274e-03, -5.36945462e-02, -7.02695968e-03,\n",
              "       -1.04957187e-04,  7.37743732e-03, -3.28165367e-02, -4.57852110e-02,\n",
              "       -3.75265814e-02, -9.13909003e-02,  4.41447683e-02,  1.29451929e-03,\n",
              "        3.87379993e-03, -2.28693001e-02, -6.54810155e-03, -2.35383492e-02,\n",
              "       -4.34483439e-02,  2.98968647e-02, -2.08110530e-02,  2.08741631e-02,\n",
              "        1.38599323e-02,  6.50385618e-02, -5.67728607e-03,  5.15805706e-02,\n",
              "        1.66488178e-02, -8.41082782e-02, -5.19962469e-03,  9.18823406e-02,\n",
              "        8.03489164e-02,  5.92341274e-02, -1.07087335e-02, -2.78533194e-02,\n",
              "        3.77768502e-02,  4.72659208e-02, -2.22328641e-02,  4.27619740e-02,\n",
              "        1.18391141e-02, -3.85542735e-02, -7.19376653e-02, -1.28670316e-02,\n",
              "        4.84697185e-02, -8.28460511e-03, -6.57926872e-02,  6.72582984e-02,\n",
              "       -1.66945048e-02,  5.32906987e-02, -8.81363079e-02, -5.32716550e-02,\n",
              "       -4.80808467e-02, -6.17974019e-03, -5.82203828e-02,  2.87631359e-02,\n",
              "        3.27995308e-02,  7.17167137e-03, -7.91114755e-03,  6.93336129e-03,\n",
              "       -5.06479666e-03, -4.22411365e-03, -1.39290160e-02, -1.93719321e-03,\n",
              "        3.26631628e-02, -2.13205051e-02, -2.56259218e-02,  2.40750494e-03,\n",
              "        5.24055073e-03, -3.70082306e-03, -2.95687187e-02,  9.38985962e-03,\n",
              "        7.09471181e-02,  2.29069255e-02, -3.12531292e-02,  2.80125607e-02,\n",
              "        5.03039956e-02,  5.12692593e-02,  1.97124463e-02,  1.24209817e-03,\n",
              "        6.39031157e-02, -1.30915698e-02, -2.66354904e-03,  4.65677828e-02,\n",
              "        5.73225617e-02,  8.35461244e-02, -1.75355107e-01, -4.95415367e-02,\n",
              "       -4.92596179e-02, -3.59160714e-02, -9.51978490e-02,  4.43768129e-02,\n",
              "       -3.56462179e-03, -6.32236972e-02, -2.98878970e-03,  1.04842745e-01,\n",
              "        7.91817009e-02,  4.87822816e-02, -2.33652238e-02, -2.60049608e-02,\n",
              "       -4.47210707e-02, -1.10641532e-02,  7.70269632e-02, -1.76984202e-02,\n",
              "        1.72571950e-02, -6.74515292e-02, -4.56570834e-02,  7.50355721e-02,\n",
              "       -7.60357035e-03,  1.46189788e-02,  7.65927657e-02,  6.30997680e-03,\n",
              "        1.56337693e-02, -4.54540402e-02, -3.31568345e-02, -1.11850249e-02],\n",
              "      dtype=float32),\n",
              "       array([-6.55772164e-02,  5.39439879e-02,  2.59074681e-02, -7.64947310e-02,\n",
              "        3.08860596e-02,  3.30688842e-02,  5.22211799e-03,  1.29918139e-02,\n",
              "       -6.25276845e-03,  1.16893947e+00, -8.81624445e-02, -1.81473475e-02,\n",
              "       -2.30777054e-03,  1.63626554e-03, -1.21112727e-03,  1.81484339e-03,\n",
              "       -5.93716912e-02,  5.56114554e-01, -5.37973121e-02,  1.92772597e-02,\n",
              "        6.18625656e-02, -8.05284232e-02,  5.05788662e-02, -5.39342947e-02,\n",
              "        1.99136361e-02,  4.86576138e-03, -1.29955988e-02, -8.73209536e-03,\n",
              "       -1.88099276e-02,  3.43108699e-02, -2.31243353e-02,  1.01240091e-01,\n",
              "       -4.67261449e-02,  5.67734726e-02, -2.77908496e-03, -7.96294063e-02,\n",
              "        6.88192323e-02, -5.48536424e-03, -6.07755855e-02,  1.50148515e-02,\n",
              "        4.30770963e-02, -6.38654232e-02,  2.16976311e-02,  4.31435707e-04,\n",
              "        7.25192130e-02, -2.14557871e-02, -1.42784175e-02,  3.55369668e-03,\n",
              "        1.54658193e-02,  2.70841010e-02,  2.54638772e-02,  1.89440344e-02,\n",
              "        3.83616686e-02, -1.87548045e-02,  6.79787202e-03,  6.47353828e-02,\n",
              "       -6.19578063e-02, -3.99720892e-02,  9.17958282e-03, -4.05223183e-02,\n",
              "       -1.12088166e-01, -1.55003611e-02,  3.85299809e-02, -2.03669798e-02,\n",
              "        5.74232712e-02,  3.13075110e-02, -5.35137840e-02,  1.95292314e-03,\n",
              "       -2.08979547e-02, -5.44522554e-02, -2.22178455e-02, -4.65768203e-02,\n",
              "       -1.86701231e-02, -2.44011357e-02,  1.14348412e-01, -3.42365466e-02,\n",
              "       -7.92656839e-02,  9.57930111e-04, -6.05635159e-03,  1.16169468e-01,\n",
              "       -1.24318982e-02, -8.22347472e-04,  1.31491097e-02,  5.11189029e-02,\n",
              "        1.81400927e-03, -5.11652827e-02,  1.52489558e-01, -1.41898960e-01,\n",
              "        7.28225044e-04, -7.54818469e-02, -1.53837383e-01, -3.18362899e-02,\n",
              "       -8.03445876e-02, -2.55513657e-02,  6.68209642e-02, -3.14037018e-02,\n",
              "       -4.07895446e-03, -5.34804873e-02, -3.52957007e-03,  1.22112567e-02,\n",
              "        1.09380605e-02, -6.91787573e-03,  1.00006151e-03,  9.96742956e-03,\n",
              "        6.00780174e-02, -8.44113648e-01, -1.75182335e-02,  8.75772256e-03,\n",
              "       -3.81718688e-02, -2.07161922e-02, -2.10415311e-02,  2.68130656e-02,\n",
              "        1.41824037e-02, -5.20793423e-02,  2.36293171e-02,  2.88581736e-02,\n",
              "        3.96920629e-02, -3.28360535e-02, -5.45954742e-02, -2.41488852e-02,\n",
              "        1.84814557e-02,  2.64052884e-03, -1.02540925e-01,  8.20829943e-02,\n",
              "        4.40378785e-02, -9.95570421e-03,  1.09991594e-03, -1.07398517e-02,\n",
              "       -3.74850109e-02, -2.81296093e-02, -6.90440997e-04, -3.36458324e-03,\n",
              "        1.89902112e-02, -3.76874693e-02,  2.76324637e-02,  1.70443933e-02,\n",
              "       -1.15289027e-02, -5.93678057e-02, -2.34529059e-02, -8.74230117e-02,\n",
              "       -9.03517842e-01, -1.49261635e-02,  1.06986854e-02,  2.24598758e-02,\n",
              "       -3.13656479e-02,  3.72966612e-03,  3.16194110e-02, -2.37397794e-02,\n",
              "       -2.84412391e-02, -3.24066728e-03, -9.84946638e-03, -3.26805077e-02,\n",
              "       -3.23026702e-02,  2.65390631e-02,  5.65084368e-02, -5.23370840e-02,\n",
              "       -4.60486561e-02, -4.55261543e-02,  1.80049110e-02,  7.22825900e-02,\n",
              "        5.57334833e-02, -5.23190722e-02, -4.11018804e-02,  1.15886644e-01,\n",
              "        1.30775105e-02, -1.30062744e-01, -2.50058770e-02, -9.86445546e-02,\n",
              "       -5.66736795e-03,  2.07510069e-02, -8.50757025e-03, -1.95388924e-02,\n",
              "        5.38958497e-02, -2.55201366e-02,  8.28488842e-02,  4.33005542e-02,\n",
              "       -1.23852035e-02,  3.34916972e-02,  3.31952013e-02,  1.52688297e-02,\n",
              "       -1.48291551e-02,  1.93878787e-03, -6.55562850e-03, -1.49453431e-02,\n",
              "       -2.44727414e-02,  6.09683655e-02, -5.60285039e-02,  5.66923171e-02,\n",
              "       -6.31022453e-03, -1.62740126e-02, -2.80818101e-02,  3.06847673e-02,\n",
              "        4.70427767e-04, -1.74118113e-02, -8.61879718e-03, -3.23536396e-02,\n",
              "        5.89021333e-02, -1.09564595e-01,  7.88375586e-02, -1.04376832e-02,\n",
              "        4.91122827e-02,  1.85584035e-02,  1.34624215e-02,  1.99223757e-02,\n",
              "       -7.36210868e-02,  7.75149418e-03, -3.61345485e-02, -2.11056285e-02,\n",
              "        1.43182231e-02,  6.41788617e-02,  1.84144254e-03,  5.39091639e-02,\n",
              "        1.12237120e-02, -8.96137580e-02,  1.83870383e-02, -6.08326867e-03,\n",
              "        3.81665714e-02,  5.23611046e-02,  1.89577267e-02,  1.99699160e-02,\n",
              "       -2.12674607e-02,  4.07580622e-02,  5.49271181e-02,  3.78389508e-02,\n",
              "        3.55891250e-02, -3.45620550e-02, -7.55524263e-02, -4.54630656e-03,\n",
              "        5.01525998e-02, -2.16274280e-02, -8.20334554e-02,  2.93307621e-02,\n",
              "       -2.34302394e-02,  1.27222976e-02, -7.73246959e-02, -2.71538887e-02,\n",
              "       -2.67772786e-02,  5.03922217e-02, -3.14636938e-02,  6.59550801e-02,\n",
              "        2.68101599e-02, -2.64005922e-02,  4.31252085e-02, -8.33044294e-03,\n",
              "        3.75359841e-02,  2.83291452e-02,  5.18984459e-02,  5.85986394e-03,\n",
              "       -6.11370988e-03, -1.05539702e-01,  5.87602593e-02,  7.81437531e-02,\n",
              "        3.76808345e-02,  5.27731515e-03, -2.71792151e-02, -3.24360491e-03,\n",
              "        6.28232211e-02,  2.20108423e-02,  2.04861071e-02, -7.63008595e-02,\n",
              "        4.28767912e-02,  4.60626073e-02, -1.31713394e-02,  8.74668136e-02,\n",
              "        2.77998000e-02, -8.50357786e-02,  7.88123906e-02,  6.26564398e-02,\n",
              "        7.44977146e-02,  1.22864842e-01, -1.44415140e-01, -5.01484936e-03,\n",
              "        3.32203545e-02,  1.11656040e-02, -1.80285666e-02,  5.17068133e-02,\n",
              "        5.90580218e-02, -6.88718632e-02, -2.65245978e-02,  6.39457032e-02,\n",
              "       -3.04535567e-03,  4.02544029e-02, -4.23200428e-02,  1.75027933e-03,\n",
              "        2.68819579e-03, -1.78362969e-02,  3.32883298e-02, -2.72728484e-02,\n",
              "        4.10880521e-02, -9.18392986e-02, -5.08886725e-02,  4.46985066e-02,\n",
              "       -7.47087747e-02, -3.56839225e-02,  5.20674922e-02,  4.44838358e-03,\n",
              "        4.38546501e-02, -1.20666474e-02, -4.95606437e-02,  3.70398542e-04],\n",
              "      dtype=float32),\n",
              "       array([-2.06621811e-02,  6.23340905e-02, -6.94096163e-02, -1.41624864e-02,\n",
              "        2.80558150e-02,  3.04562598e-02,  1.00073451e-03, -1.15017340e-01,\n",
              "        2.81530470e-02,  1.33822334e+00, -6.60148934e-02,  9.15251300e-03,\n",
              "        6.36878908e-02, -9.67092253e-03, -6.22913726e-02, -2.37279274e-02,\n",
              "       -6.72486937e-03,  5.77028096e-01, -1.35504603e-01, -2.92958096e-02,\n",
              "       -3.42167839e-02, -6.36727959e-02,  6.44582510e-02, -6.92550540e-02,\n",
              "        4.84145917e-02,  5.34006990e-02, -3.09155956e-02, -7.52264410e-02,\n",
              "       -3.65748554e-02, -6.44613057e-02, -7.95208812e-02,  6.48158486e-04,\n",
              "       -7.39893988e-02,  8.85616317e-02,  5.93716688e-02, -6.81031868e-02,\n",
              "        4.33343798e-02,  2.15667021e-02, -1.07820533e-01, -7.38828853e-02,\n",
              "        6.26280233e-02, -3.79295312e-02, -5.03230141e-03, -5.68241514e-02,\n",
              "        7.99655244e-02,  3.89632694e-02, -7.42882714e-02,  2.02924144e-02,\n",
              "       -1.77897587e-02, -1.89645197e-02,  7.00763315e-02, -9.34652798e-03,\n",
              "        5.10217771e-02, -1.67284273e-02, -1.53462403e-02,  2.13927440e-02,\n",
              "       -4.31572460e-02, -1.00863107e-01,  2.78479103e-02, -6.07100874e-02,\n",
              "       -2.14931965e-02, -2.92866006e-02,  3.18009034e-02,  3.26614864e-02,\n",
              "        8.18248093e-02, -7.93673024e-02, -4.52965498e-02, -7.28517259e-03,\n",
              "        4.14187089e-02, -2.47632693e-02,  8.89178663e-02, -6.63861483e-02,\n",
              "        2.44794283e-02,  1.05464887e-02,  1.77305285e-02,  3.13410047e-03,\n",
              "       -2.93624662e-02, -5.69139719e-02,  2.16390397e-02,  1.04237325e-01,\n",
              "        5.29628107e-03, -2.34777313e-02, -4.49524634e-03,  1.64219998e-02,\n",
              "       -1.84452794e-02, -1.60884857e-02,  1.51639163e-01, -6.67557791e-02,\n",
              "        8.12289566e-02, -5.81986792e-02, -1.28549770e-01, -1.34516973e-02,\n",
              "       -1.11332908e-01,  2.42519509e-02,  8.56444091e-02, -6.69101030e-02,\n",
              "        2.45202631e-02, -1.92172378e-02, -5.79245351e-02,  3.55391204e-02,\n",
              "        5.01078367e-03,  1.31920967e-02, -1.72235426e-02, -5.79946004e-02,\n",
              "        5.96270673e-02, -6.68083310e-01,  1.43515784e-02, -4.50172871e-02,\n",
              "       -7.35581443e-02, -7.24557117e-02,  1.75011288e-02, -4.30773571e-02,\n",
              "        2.51953695e-02, -2.21881382e-02,  2.58917399e-02,  3.88796926e-02,\n",
              "        4.54928018e-02,  5.79231232e-02,  1.94883551e-02,  3.73908468e-02,\n",
              "       -3.18957567e-02, -8.38161483e-02, -6.84754699e-02,  4.07759994e-02,\n",
              "        9.84675903e-03,  6.18444122e-02, -8.24145526e-02, -7.47534856e-02,\n",
              "       -6.06157333e-02, -8.90616700e-03, -3.08058388e-03,  1.74036659e-02,\n",
              "        4.30372097e-02, -1.59895094e-03,  4.83266264e-02,  2.37254538e-02,\n",
              "       -4.10886109e-02, -5.59225045e-02,  1.70740411e-02, -4.71057780e-02,\n",
              "       -1.29765642e+00, -1.85208805e-02,  4.98849116e-02,  9.89431888e-03,\n",
              "       -2.98258755e-02, -6.71900734e-02, -3.89963947e-02, -5.17914407e-02,\n",
              "        7.16670007e-02, -2.85567585e-02,  4.20236401e-03,  2.37043258e-02,\n",
              "        9.33683477e-03,  1.78662688e-02, -2.51349006e-02, -5.17558232e-02,\n",
              "       -4.73408625e-02, -6.99025616e-02, -1.19255669e-02, -4.24695350e-02,\n",
              "        6.94440911e-03, -5.40014207e-02, -2.17268895e-02,  2.04982515e-02,\n",
              "        3.17470264e-03, -7.91980922e-02,  7.73189683e-03, -4.29338776e-02,\n",
              "        5.70015647e-02, -2.66426150e-02,  5.78595465e-03, -9.15716290e-02,\n",
              "        7.22672371e-03, -2.71042548e-02,  5.24538010e-02, -4.52270024e-02,\n",
              "        7.89851137e-03,  1.71253851e-05, -1.95273682e-02, -1.58202276e-02,\n",
              "       -1.28694419e-02, -1.48197580e-02, -3.73916700e-02,  3.19696143e-02,\n",
              "        2.76469290e-02,  3.34412255e-03, -6.69129714e-02,  5.44418991e-02,\n",
              "       -4.22063880e-02,  2.88546905e-02, -6.70192614e-02, -2.33218949e-02,\n",
              "       -7.43676722e-03,  3.52031924e-02, -9.11407406e-04, -7.92382583e-02,\n",
              "       -2.31054891e-02, -7.40327388e-02,  9.96915903e-03,  3.92155461e-02,\n",
              "        2.28327084e-02,  1.64186873e-03, -2.83124074e-02, -1.77954249e-02,\n",
              "       -1.89964697e-02,  8.89155865e-02,  8.59517750e-05,  3.25288996e-03,\n",
              "        5.30128293e-02,  4.15387191e-02, -4.59253863e-02,  2.23541893e-02,\n",
              "        5.68825118e-02, -1.41118407e-01,  4.29020636e-03,  1.00803375e-01,\n",
              "        9.07530487e-02,  4.46126349e-02, -3.05438805e-02, -5.00795543e-02,\n",
              "        1.20538315e-02,  1.56810228e-02, -2.12922450e-02,  4.05756012e-02,\n",
              "        3.83150503e-02, -7.63422158e-03, -3.31080370e-02,  3.18360403e-02,\n",
              "        7.27776662e-02, -4.82284697e-03, -9.60629806e-02,  5.90578578e-02,\n",
              "        2.88747549e-02,  9.36670303e-02, -7.89447725e-02, -4.09925729e-02,\n",
              "       -5.13460860e-03,  1.37206716e-02, -6.23785593e-02,  6.92648068e-02,\n",
              "        4.26111333e-02,  4.95745381e-03,  4.09142263e-02,  1.29861934e-02,\n",
              "        3.32148522e-02, -3.57951261e-02, -2.97692344e-02,  5.90082295e-02,\n",
              "       -1.62299778e-02,  6.21332191e-02,  2.61414386e-02,  1.25905145e-02,\n",
              "       -8.90387781e-03, -3.54405381e-02, -5.11646122e-02,  7.63080269e-02,\n",
              "        9.37262699e-02,  2.90195569e-02, -2.81386022e-02, -1.56670134e-03,\n",
              "        8.90675113e-02,  5.41228838e-02,  2.45219655e-02,  1.28812110e-02,\n",
              "        5.46820536e-02, -4.69162390e-02, -1.74199007e-02,  6.04765639e-02,\n",
              "        1.25763044e-01,  1.03591360e-01, -5.22711053e-02, -5.23445942e-02,\n",
              "       -3.42428423e-02, -9.48152393e-02, -7.27214366e-02,  8.71162638e-02,\n",
              "        2.10416205e-02, -2.64159478e-02,  5.90547360e-03,  1.69531107e-01,\n",
              "        3.20814103e-02,  3.27167101e-02, -8.02129693e-03, -3.36287618e-02,\n",
              "        1.31209632e-02, -1.34479045e-03,  2.68329512e-02, -6.50976673e-02,\n",
              "        4.11717780e-02, -8.77301693e-02, -5.66478297e-02,  4.24779095e-02,\n",
              "       -2.66021788e-02, -1.57541863e-03,  5.06889708e-02,  5.86878173e-02,\n",
              "       -6.22093715e-02, -6.42947182e-02,  3.80552444e-03,  2.39828657e-02],\n",
              "      dtype=float32)], dtype=object)"
            ]
          },
          "metadata": {
            "tags": []
          },
          "execution_count": 162
        }
      ]
    },
    {
      "cell_type": "code",
      "metadata": {
        "id": "IXfhqX12oasj"
      },
      "source": [
        "X=np.concatenate(X,axis=0)"
      ],
      "execution_count": 163,
      "outputs": []
    },
    {
      "cell_type": "code",
      "metadata": {
        "colab": {
          "base_uri": "https://localhost:8080/"
        },
        "id": "gKLILrYhowLK",
        "outputId": "cd711f34-97b5-46fe-ed7a-4182901202d9"
      },
      "source": [
        "X.shape"
      ],
      "execution_count": 165,
      "outputs": [
        {
          "output_type": "execute_result",
          "data": {
            "text/plain": [
              "(600000,)"
            ]
          },
          "metadata": {
            "tags": []
          },
          "execution_count": 165
        }
      ]
    },
    {
      "cell_type": "code",
      "metadata": {
        "id": "px19XL9qpYEz"
      },
      "source": [
        "X=X.reshape(-1,300)"
      ],
      "execution_count": 167,
      "outputs": []
    },
    {
      "cell_type": "code",
      "metadata": {
        "colab": {
          "base_uri": "https://localhost:8080/"
        },
        "id": "A3ph7m0hpfdT",
        "outputId": "38e887ba-b711-4178-e257-670873ebc090"
      },
      "source": [
        "X.shape"
      ],
      "execution_count": 168,
      "outputs": [
        {
          "output_type": "execute_result",
          "data": {
            "text/plain": [
              "(2000, 300)"
            ]
          },
          "metadata": {
            "tags": []
          },
          "execution_count": 168
        }
      ]
    },
    {
      "cell_type": "code",
      "metadata": {
        "id": "ZqZz0MFZplD7"
      },
      "source": [
        "y=df['label']"
      ],
      "execution_count": 170,
      "outputs": []
    },
    {
      "cell_type": "code",
      "metadata": {
        "id": "-uP9u9QjprLi"
      },
      "source": [
        "X_train,X_test,y_train,y_test=train_test_split(X,y,test_size=0.2,random_state=2)  "
      ],
      "execution_count": 171,
      "outputs": []
    },
    {
      "cell_type": "code",
      "metadata": {
        "colab": {
          "base_uri": "https://localhost:8080/"
        },
        "id": "XiLJyJUCp9Za",
        "outputId": "8767fab9-d795-4243-f17b-e8d3a98b8542"
      },
      "source": [
        "X_test.shape"
      ],
      "execution_count": 172,
      "outputs": [
        {
          "output_type": "execute_result",
          "data": {
            "text/plain": [
              "(400, 300)"
            ]
          },
          "metadata": {
            "tags": []
          },
          "execution_count": 172
        }
      ]
    },
    {
      "cell_type": "markdown",
      "metadata": {
        "id": "hQIPEQkbqHId"
      },
      "source": [
        "Data prepared. Now going ahead with Model training"
      ]
    },
    {
      "cell_type": "code",
      "metadata": {
        "id": "vjVAWYq4qKjq"
      },
      "source": [
        "clf=LogisticRegression(solver='liblinear')"
      ],
      "execution_count": 173,
      "outputs": []
    },
    {
      "cell_type": "code",
      "metadata": {
        "colab": {
          "base_uri": "https://localhost:8080/"
        },
        "id": "mesjik-wqaGj",
        "outputId": "a28acf6c-a7cd-4c56-d6dd-d94fcd9c2d11"
      },
      "source": [
        "clf.fit(X_train,y_train)"
      ],
      "execution_count": 175,
      "outputs": [
        {
          "output_type": "execute_result",
          "data": {
            "text/plain": [
              "LogisticRegression(C=1.0, class_weight=None, dual=False, fit_intercept=True,\n",
              "                   intercept_scaling=1, l1_ratio=None, max_iter=100,\n",
              "                   multi_class='auto', n_jobs=None, penalty='l2',\n",
              "                   random_state=None, solver='liblinear', tol=0.0001, verbose=0,\n",
              "                   warm_start=False)"
            ]
          },
          "metadata": {
            "tags": []
          },
          "execution_count": 175
        }
      ]
    },
    {
      "cell_type": "code",
      "metadata": {
        "id": "uU9XfgT1qdBy"
      },
      "source": [
        "y_pred=clf.predict(X_test)"
      ],
      "execution_count": 176,
      "outputs": []
    },
    {
      "cell_type": "code",
      "metadata": {
        "colab": {
          "base_uri": "https://localhost:8080/"
        },
        "id": "AjE46S31qlgr",
        "outputId": "b2844b7e-7086-49fe-c5fe-911974e1310c"
      },
      "source": [
        "print(classification_report(y_test,y_pred))"
      ],
      "execution_count": 177,
      "outputs": [
        {
          "output_type": "stream",
          "text": [
            "              precision    recall  f1-score   support\n",
            "\n",
            "         neg       0.80      0.85      0.83       202\n",
            "         pos       0.84      0.79      0.81       198\n",
            "\n",
            "    accuracy                           0.82       400\n",
            "   macro avg       0.82      0.82      0.82       400\n",
            "weighted avg       0.82      0.82      0.82       400\n",
            "\n"
          ],
          "name": "stdout"
        }
      ]
    },
    {
      "cell_type": "code",
      "metadata": {
        "id": "MB0JNiqUqv5S"
      },
      "source": [
        "import pickle\n"
      ],
      "execution_count": 178,
      "outputs": []
    },
    {
      "cell_type": "code",
      "metadata": {
        "id": "3EHLbl_WrWzT"
      },
      "source": [
        "pickle.dump(clf,open('model_sentiment.pkl','wb'))"
      ],
      "execution_count": 179,
      "outputs": []
    },
    {
      "cell_type": "code",
      "metadata": {
        "id": "vepoMmQMrko5"
      },
      "source": [
        ""
      ],
      "execution_count": null,
      "outputs": []
    }
  ]
}